{
  "cells": [
    {
      "cell_type": "markdown",
      "metadata": {
        "id": "view-in-github",
        "colab_type": "text"
      },
      "source": [
        "<a href=\"https://colab.research.google.com/github/ayanb1101/Investigating-Netflix-Movie/blob/main/Investigating_Netflix_Movies.ipynb\" target=\"_parent\"><img src=\"https://colab.research.google.com/assets/colab-badge.svg\" alt=\"Open In Colab\"/></a>"
      ]
    },
    {
      "source": [
        "<center><img src=\"redpopcorn.jpg\"></center>"
      ],
      "metadata": {
        "id": "937acf3c-c077-4ca6-8d90-8f6dd4d13c54"
      },
      "id": "937acf3c-c077-4ca6-8d90-8f6dd4d13c54",
      "cell_type": "markdown"
    },
    {
      "source": [
        "**Netflix**! What started in 1997 as a DVD rental service has since exploded into one of the largest entertainment and media companies.\n",
        "\n",
        "Given the large number of movies and series available on the platform, it is a perfect opportunity to flex your exploratory data analysis skills and dive into the entertainment industry.\n",
        "\n",
        "You work for a production company that specializes in nostalgic styles. You want to do some research on movies released in the 1990's. You'll delve into Netflix data and perform exploratory data analysis to better understand this awesome movie decade!\n",
        "\n",
        "You have been supplied with the dataset `netflix_data.csv`, along with the following table detailing the column names and descriptions. Feel free to experiment further after submitting!\n",
        "\n",
        "## The data\n",
        "### **netflix_data.csv**\n",
        "| Column | Description |\n",
        "|--------|-------------|\n",
        "| `show_id` | The ID of the show |\n",
        "| `type` | Type of show |\n",
        "| `title` | Title of the show |\n",
        "| `director` | Director of the show |\n",
        "| `cast` | Cast of the show |\n",
        "| `country` | Country of origin |\n",
        "| `date_added` | Date added to Netflix |\n",
        "| `release_year` | Year of Netflix release |\n",
        "| `duration` | Duration of the show in minutes |\n",
        "| `description` | Description of the show |\n",
        "| `genre` | Show genre |"
      ],
      "metadata": {
        "id": "5962b2cd-17bb-4ec9-b2d5-68537ca26860"
      },
      "id": "5962b2cd-17bb-4ec9-b2d5-68537ca26860",
      "cell_type": "markdown"
    },
    {
      "source": [
        "# Importing pandas and matplotlib\n",
        "import pandas as pd\n",
        "import matplotlib.pyplot as plt\n",
        "\n"
      ],
      "metadata": {
        "executionTime": 49,
        "lastSuccessfullyExecutedCode": "# Importing pandas and matplotlib\nimport pandas as pd\nimport matplotlib.pyplot as plt\n\n# Read in the Netflix CSV as a DataFrame\nnetflix_df = pd.read_csv(\"netflix_data.csv\")",
        "executionCancelledAt": null,
        "lastExecutedAt": 1736311034599,
        "lastExecutedByKernel": "47347d11-0755-44e2-b250-85bd71a88b9c",
        "lastScheduledRunId": null,
        "id": "320a3abc-8a36-4b2b-baaf-473325363a4d"
      },
      "id": "320a3abc-8a36-4b2b-baaf-473325363a4d",
      "cell_type": "code",
      "execution_count": null,
      "outputs": []
    },
    {
      "cell_type": "code",
      "source": [
        "# from google.colab import files\n",
        "# uploaded = files.upload()"
      ],
      "metadata": {
        "id": "2BQTmEr2O4Am"
      },
      "id": "2BQTmEr2O4Am",
      "execution_count": null,
      "outputs": []
    },
    {
      "cell_type": "code",
      "source": [
        "# Read in the Netflix CSV as a DataFrame\n",
        "netflix_df = pd.read_csv(\"netflix_data.csv\")"
      ],
      "metadata": {
        "id": "gJKtAYsEPI9O"
      },
      "id": "gJKtAYsEPI9O",
      "execution_count": null,
      "outputs": []
    },
    {
      "source": [
        "print(netflix_df.head())"
      ],
      "metadata": {
        "executionCancelledAt": null,
        "executionTime": 56,
        "lastExecutedAt": 1736311034655,
        "lastExecutedByKernel": "47347d11-0755-44e2-b250-85bd71a88b9c",
        "lastScheduledRunId": null,
        "lastSuccessfullyExecutedCode": "print(netflix_df.head())",
        "outputsMetadata": {
          "0": {
            "height": 185,
            "type": "stream"
          }
        },
        "colab": {
          "base_uri": "https://localhost:8080/"
        },
        "id": "72658473-114f-49eb-bd4e-cc03c710834a",
        "outputId": "311e4a68-c547-4a63-a587-2721ed79f516"
      },
      "id": "72658473-114f-49eb-bd4e-cc03c710834a",
      "cell_type": "code",
      "execution_count": null,
      "outputs": [
        {
          "output_type": "stream",
          "name": "stdout",
          "text": [
            "  show_id     type  title           director  \\\n",
            "0      s2    Movie   7:19  Jorge Michel Grau   \n",
            "1      s3    Movie  23:59       Gilbert Chan   \n",
            "2      s4    Movie      9        Shane Acker   \n",
            "3      s5    Movie     21     Robert Luketic   \n",
            "4      s6  TV Show     46        Serdar Akar   \n",
            "\n",
            "                                                cast        country  \\\n",
            "0  Demián Bichir, Héctor Bonilla, Oscar Serrano, ...         Mexico   \n",
            "1  Tedd Chan, Stella Chung, Henley Hii, Lawrence ...      Singapore   \n",
            "2  Elijah Wood, John C. Reilly, Jennifer Connelly...  United States   \n",
            "3  Jim Sturgess, Kevin Spacey, Kate Bosworth, Aar...  United States   \n",
            "4  Erdal Beşikçioğlu, Yasemin Allen, Melis Birkan...         Turkey   \n",
            "\n",
            "          date_added  release_year  duration  \\\n",
            "0  December 23, 2016          2016        93   \n",
            "1  December 20, 2018          2011        78   \n",
            "2  November 16, 2017          2009        80   \n",
            "3    January 1, 2020          2008       123   \n",
            "4       July 1, 2017          2016         1   \n",
            "\n",
            "                                         description             genre  \n",
            "0  After a devastating earthquake hits Mexico Cit...            Dramas  \n",
            "1  When an army recruit is found dead, his fellow...     Horror Movies  \n",
            "2  In a postapocalyptic world, rag-doll robots hi...            Action  \n",
            "3  A brilliant group of students become card-coun...            Dramas  \n",
            "4  A genetics professor experiments with a treatm...  International TV  \n"
          ]
        }
      ]
    },
    {
      "source": [
        "print(netflix_df.isna().any())"
      ],
      "metadata": {
        "executionCancelledAt": null,
        "executionTime": 56,
        "lastExecutedAt": 1736311034711,
        "lastExecutedByKernel": "47347d11-0755-44e2-b250-85bd71a88b9c",
        "lastScheduledRunId": null,
        "lastSuccessfullyExecutedCode": "print(netflix_df.isna().any())",
        "outputsMetadata": {
          "0": {
            "height": 269,
            "type": "stream"
          }
        },
        "colab": {
          "base_uri": "https://localhost:8080/"
        },
        "id": "b4284907-997c-4765-a99b-43c716a6755b",
        "outputId": "598fc05c-50a7-4b6c-c8d2-4fbf1346432e"
      },
      "cell_type": "code",
      "id": "b4284907-997c-4765-a99b-43c716a6755b",
      "outputs": [
        {
          "output_type": "stream",
          "name": "stdout",
          "text": [
            "show_id         False\n",
            "type            False\n",
            "title           False\n",
            "director        False\n",
            "cast            False\n",
            "country         False\n",
            "date_added      False\n",
            "release_year    False\n",
            "duration        False\n",
            "description     False\n",
            "genre           False\n",
            "dtype: bool\n"
          ]
        }
      ],
      "execution_count": null
    },
    {
      "source": [
        "decade_90 = netflix_df[(netflix_df['release_year']>=1990) & (netflix_df['release_year']<2000) & (netflix_df['type'] == 'Movie')]\n",
        "print(decade_90.head())"
      ],
      "metadata": {
        "executionCancelledAt": null,
        "executionTime": 64,
        "lastExecutedAt": 1736311034775,
        "lastExecutedByKernel": "47347d11-0755-44e2-b250-85bd71a88b9c",
        "lastScheduledRunId": null,
        "lastSuccessfullyExecutedCode": "decade_90 = netflix_df[(netflix_df['release_year']>=1990) & (netflix_df['release_year']<2000) & (netflix_df['type'] == 'Movie')]\nprint(decade_90.head())",
        "outputsMetadata": {
          "0": {
            "height": 185,
            "type": "stream"
          }
        },
        "colab": {
          "base_uri": "https://localhost:8080/"
        },
        "id": "ad119663-5718-4bf6-a79f-c2e9244d378b",
        "outputId": "79a4bf62-45f1-4a9e-d495-6599ce5171a5"
      },
      "cell_type": "code",
      "id": "ad119663-5718-4bf6-a79f-c2e9244d378b",
      "outputs": [
        {
          "output_type": "stream",
          "name": "stdout",
          "text": [
            "    show_id   type                            title            director  \\\n",
            "6        s8  Movie                              187      Kevin Reynolds   \n",
            "118    s167  Movie                A Dangerous Woman  Stephen Gyllenhaal   \n",
            "145    s211  Movie           A Night at the Roxbury    John Fortenberry   \n",
            "167    s239  Movie  A Thin Line Between Love & Hate     Martin Lawrence   \n",
            "194    s274  Movie                     Aashik Awara         Umesh Mehra   \n",
            "\n",
            "                                                  cast        country  \\\n",
            "6    Samuel L. Jackson, John Heard, Kelly Rowan, Cl...  United States   \n",
            "118  Debra Winger, Barbara Hershey, Gabriel Byrne, ...  United States   \n",
            "145  Will Ferrell, Chris Kattan, Dan Hedaya, Molly ...  United States   \n",
            "167  Martin Lawrence, Lynn Whitfield, Regina King, ...  United States   \n",
            "194  Saif Ali Khan, Mamta Kulkarni, Mohnish Bahl, S...          India   \n",
            "\n",
            "           date_added  release_year  duration  \\\n",
            "6    November 1, 2019          1997       119   \n",
            "118     April 1, 2018          1993       101   \n",
            "145  December 1, 2019          1998        82   \n",
            "167  December 1, 2020          1996       108   \n",
            "194      June 1, 2017          1993       154   \n",
            "\n",
            "                                           description     genre  \n",
            "6    After one of his high school students attacks ...    Dramas  \n",
            "118  At the center of this engrossing melodrama is ...    Dramas  \n",
            "145  After a run-in with Richard Grieco, dimwits Do...  Comedies  \n",
            "167  When a philandering club promoter sets out to ...  Comedies  \n",
            "194  Raised by a kindly thief, orphaned Jimmy goes ...    Dramas  \n"
          ]
        }
      ],
      "execution_count": null
    },
    {
      "source": [
        "# duration = decade_90[\"duration\"].value_counts().max()\n",
        "max_occr = decade_90[\"duration\"].value_counts().idxmax()\n",
        "duration = decade_90[decade_90[\"duration\"]==max_occr][\"duration\"].max()\n",
        "print(duration)"
      ],
      "metadata": {
        "executionCancelledAt": null,
        "executionTime": 52,
        "lastExecutedAt": 1736311034827,
        "lastExecutedByKernel": "47347d11-0755-44e2-b250-85bd71a88b9c",
        "lastScheduledRunId": null,
        "lastSuccessfullyExecutedCode": "# duration = decade_90[\"duration\"].value_counts().max()\nmax_occr = decade_90[\"duration\"].value_counts().idxmax()\nduration = decade_90[decade_90[\"duration\"]==max_occr][\"duration\"].max()\nprint(duration)",
        "outputsMetadata": {
          "0": {
            "height": 38,
            "type": "stream"
          }
        },
        "colab": {
          "base_uri": "https://localhost:8080/"
        },
        "id": "f8777042-8d33-45dc-9aac-335afd80a9b6",
        "outputId": "73d221f1-bf61-49f9-d6e8-e2a802aa2b09"
      },
      "cell_type": "code",
      "id": "f8777042-8d33-45dc-9aac-335afd80a9b6",
      "outputs": [
        {
          "output_type": "stream",
          "name": "stdout",
          "text": [
            "94\n"
          ]
        }
      ],
      "execution_count": null
    },
    {
      "source": [
        "short_movie_count = len(decade_90[(decade_90[\"duration\"]<90) & (decade_90[\"genre\"] == 'Action')])\n",
        "print(short_movie_count)"
      ],
      "metadata": {
        "executionCancelledAt": null,
        "executionTime": 52,
        "lastExecutedAt": 1736311034879,
        "lastExecutedByKernel": "47347d11-0755-44e2-b250-85bd71a88b9c",
        "lastScheduledRunId": null,
        "lastSuccessfullyExecutedCode": "short_movie_count = len(decade_90[(decade_90[\"duration\"]<90) & (decade_90[\"genre\"] == 'Action')])\nprint(short_movie_count)",
        "outputsMetadata": {
          "0": {
            "height": 38,
            "type": "stream"
          }
        },
        "colab": {
          "base_uri": "https://localhost:8080/"
        },
        "id": "aafb49f2-b67b-4474-8bf2-8d4d60d721c9",
        "outputId": "59160edb-a744-49c7-930d-1d380cc41078"
      },
      "cell_type": "code",
      "id": "aafb49f2-b67b-4474-8bf2-8d4d60d721c9",
      "outputs": [
        {
          "output_type": "stream",
          "name": "stdout",
          "text": [
            "7\n"
          ]
        }
      ],
      "execution_count": null
    }
  ],
  "metadata": {
    "colab": {
      "provenance": [],
      "include_colab_link": true
    },
    "kernelspec": {
      "display_name": "Python 3 (ipykernel)",
      "language": "python",
      "name": "python3"
    },
    "language_info": {
      "name": "python",
      "version": "3.8.10",
      "mimetype": "text/x-python",
      "codemirror_mode": {
        "name": "ipython",
        "version": 3
      },
      "pygments_lexer": "ipython3",
      "nbconvert_exporter": "python",
      "file_extension": ".py"
    },
    "editor": "DataLab"
  },
  "nbformat": 4,
  "nbformat_minor": 5
}